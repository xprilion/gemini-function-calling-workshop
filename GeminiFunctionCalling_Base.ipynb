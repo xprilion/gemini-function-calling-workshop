{
  "nbformat": 4,
  "nbformat_minor": 0,
  "metadata": {
    "colab": {
      "provenance": [],
      "authorship_tag": "ABX9TyM49MTHCavJQ7lmQC0fZEAt",
      "include_colab_link": true
    },
    "kernelspec": {
      "name": "python3",
      "display_name": "Python 3"
    },
    "language_info": {
      "name": "python"
    }
  },
  "cells": [
    {
      "cell_type": "markdown",
      "metadata": {
        "id": "view-in-github",
        "colab_type": "text"
      },
      "source": [
        "<a href=\"https://colab.research.google.com/github/xprilion/gemini-function-calling-workshop/blob/main/GeminiFunctionCalling_Base.ipynb\" target=\"_parent\"><img src=\"https://colab.research.google.com/assets/colab-badge.svg\" alt=\"Open In Colab\"/></a>"
      ]
    },
    {
      "cell_type": "markdown",
      "source": [
        "# Basic Gemini Function Calling\n",
        "\n",
        "This notebook follows along the required code to complete the lab on [How to Interact with APIs Using Function Calling in Gemini\n",
        "](https://codelabs.developers.google.com/codelabs/gemini-function-calling) by [@koverholt](https://github.com/koverholt)."
      ],
      "metadata": {
        "id": "EJOQZY29makV"
      }
    },
    {
      "cell_type": "markdown",
      "source": [
        "## Step 1. Overview\n",
        "This section talks about the importance of Function Calling and how it enables Gemini to access data that may be real-time, protected or otherwise unavailable in the Gemini training datasets."
      ],
      "metadata": {
        "id": "74lqwXX-m-wf"
      }
    },
    {
      "cell_type": "markdown",
      "source": [
        "## Step 2. Setup and requirements"
      ],
      "metadata": {
        "id": "Q0FxkQ9Nm4DE"
      }
    },
    {
      "cell_type": "code",
      "execution_count": 2,
      "metadata": {
        "id": "YMqhtV0LT2Ff"
      },
      "outputs": [],
      "source": [
        "%%capture\n",
        "!pip install --upgrade google-cloud-aiplatform"
      ]
    },
    {
      "cell_type": "markdown",
      "source": [
        "## Step 3. Understand the problem"
      ],
      "metadata": {
        "id": "QLqRh1GenSAy"
      }
    },
    {
      "cell_type": "code",
      "source": [
        "import vertexai\n",
        "from vertexai.preview.generative_models import GenerativeModel"
      ],
      "metadata": {
        "id": "afMdh8d1T8Ub"
      },
      "execution_count": 25,
      "outputs": []
    },
    {
      "cell_type": "code",
      "source": [
        "from google.oauth2 import service_account"
      ],
      "metadata": {
        "id": "Rc4EfQ5jZG6U"
      },
      "execution_count": 26,
      "outputs": []
    },
    {
      "cell_type": "code",
      "source": [
        "credentials = service_account.Credentials.from_service_account_file('gcp-adventure-x-a3fb7a36e1e6.json')"
      ],
      "metadata": {
        "id": "qxQxLxscZJwG"
      },
      "execution_count": 27,
      "outputs": []
    },
    {
      "cell_type": "code",
      "source": [
        "vertexai.init(project=\"gcp-adventure-x\", location=\"us-central1\", credentials=credentials)"
      ],
      "metadata": {
        "id": "xI9lR5lkUos4"
      },
      "execution_count": 28,
      "outputs": []
    },
    {
      "cell_type": "code",
      "source": [
        "model = GenerativeModel(\"gemini-1.0-pro-001\")"
      ],
      "metadata": {
        "id": "tC_UCY5aUOxx"
      },
      "execution_count": 29,
      "outputs": []
    },
    {
      "cell_type": "code",
      "source": [
        "response = model.generate_content(\n",
        "    \"What's the exchange rate for euros to dollars today?\"\n",
        ")\n",
        "print(response.text)"
      ],
      "metadata": {
        "colab": {
          "base_uri": "https://localhost:8080/"
        },
        "id": "XQvmgIhgUR9h",
        "outputId": "ca335332-2420-4606-8488-89e5ef3dd656"
      },
      "execution_count": 30,
      "outputs": [
        {
          "output_type": "stream",
          "name": "stdout",
          "text": [
            "I do not have access to real-time information and cannot provide the current exchange rate. Please check a currency converter or financial news source for the most up-to-date information.\n"
          ]
        }
      ]
    },
    {
      "cell_type": "markdown",
      "source": [
        "## Step 4: Try common workarounds\n",
        "Skipping this section in interest of getting ideas from the workshop participants."
      ],
      "metadata": {
        "id": "83gN8MgHnWkb"
      }
    },
    {
      "cell_type": "markdown",
      "source": [
        "## Step 5. How function calling works\n",
        "This section describes the execution flow of Function Calling."
      ],
      "metadata": {
        "id": "_C4PTcngnkM0"
      }
    },
    {
      "cell_type": "markdown",
      "source": [
        "## Step 6. Choose your API"
      ],
      "metadata": {
        "id": "T0Khd0PGnt1m"
      }
    },
    {
      "cell_type": "code",
      "source": [
        "import requests\n",
        "url = \"https://api.frankfurter.app/latest\"\n",
        "response = requests.get(url)\n",
        "data = response.json()\n",
        "data"
      ],
      "metadata": {
        "colab": {
          "base_uri": "https://localhost:8080/"
        },
        "id": "-iHue7JDXJzo",
        "outputId": "efab08fc-386e-40dc-cdcd-6c6fc181e743"
      },
      "execution_count": 32,
      "outputs": [
        {
          "output_type": "execute_result",
          "data": {
            "text/plain": [
              "{'amount': 1.0,\n",
              " 'base': 'EUR',\n",
              " 'date': '2024-03-15',\n",
              " 'rates': {'AUD': 1.6579,\n",
              "  'BGN': 1.9558,\n",
              "  'BRL': 5.4461,\n",
              "  'CAD': 1.4731,\n",
              "  'CHF': 0.9613,\n",
              "  'CNY': 7.838,\n",
              "  'CZK': 25.166,\n",
              "  'DKK': 7.4571,\n",
              "  'GBP': 0.8541,\n",
              "  'HKD': 8.5199,\n",
              "  'HUF': 393.2,\n",
              "  'IDR': 17011,\n",
              "  'ILS': 3.9811,\n",
              "  'INR': 90.26,\n",
              "  'ISK': 148.9,\n",
              "  'JPY': 162.03,\n",
              "  'KRW': 1448.71,\n",
              "  'MXN': 18.1915,\n",
              "  'MYR': 5.1241,\n",
              "  'NOK': 11.5205,\n",
              "  'NZD': 1.786,\n",
              "  'PHP': 60.494,\n",
              "  'PLN': 4.2953,\n",
              "  'RON': 4.9711,\n",
              "  'SEK': 11.2674,\n",
              "  'SGD': 1.4562,\n",
              "  'THB': 39.053,\n",
              "  'TRY': 35.092,\n",
              "  'USD': 1.0892,\n",
              "  'ZAR': 20.352}}"
            ]
          },
          "metadata": {},
          "execution_count": 32
        }
      ]
    },
    {
      "cell_type": "markdown",
      "source": [
        "## Step 7. Define a function and tool"
      ],
      "metadata": {
        "id": "Ntis3zdqnx-s"
      }
    },
    {
      "cell_type": "code",
      "source": [
        "from vertexai.preview.generative_models import (\n",
        "    Content,\n",
        "    FunctionDeclaration,\n",
        "    GenerativeModel,\n",
        "    Part,\n",
        "    Tool,\n",
        ")\n",
        "\n",
        "model = GenerativeModel(\"gemini-1.0-pro-001\")"
      ],
      "metadata": {
        "id": "OECV1_BFbbAY"
      },
      "execution_count": 33,
      "outputs": []
    },
    {
      "cell_type": "code",
      "source": [
        "get_exchange_rate_func = FunctionDeclaration(\n",
        "    name=\"get_exchange_rate\",\n",
        "    description=\"Get the exchange rate for currencies between countries\",\n",
        "    parameters={\n",
        "    \"type\": \"object\",\n",
        "    \"properties\": {\n",
        "        \"currency_date\": {\n",
        "            \"type\": \"string\",\n",
        "            \"description\": \"A date that must always be in YYYY-MM-DD format or the value 'latest' if a time period is not specified\"\n",
        "        },\n",
        "        \"currency_from\": {\n",
        "            \"type\": \"string\",\n",
        "            \"description\": \"The currency to convert from in ISO 4217 format\"\n",
        "        },\n",
        "        \"currency_to\": {\n",
        "            \"type\": \"string\",\n",
        "            \"description\": \"The currency to convert to in ISO 4217 format\"\n",
        "        }\n",
        "    },\n",
        "         \"required\": [\n",
        "            \"currency_from\",\n",
        "            \"currency_date\",\n",
        "      ]\n",
        "  },\n",
        ")"
      ],
      "metadata": {
        "id": "dW3THZYfb3xJ"
      },
      "execution_count": 34,
      "outputs": []
    },
    {
      "cell_type": "code",
      "source": [
        "exchange_rate_tool = Tool(\n",
        "    function_declarations=[get_exchange_rate_func],\n",
        ")"
      ],
      "metadata": {
        "id": "mRCGq9UxcNjY"
      },
      "execution_count": 35,
      "outputs": []
    },
    {
      "cell_type": "markdown",
      "source": [
        "## Step 8. Generate a function call"
      ],
      "metadata": {
        "id": "vL07Qym0n1dV"
      }
    },
    {
      "cell_type": "code",
      "source": [
        "prompt = \"\"\"What is the latest exchange rate from Australian dollars to Swedish krona?\n",
        "How much is 500 Australian dollars worth in Swedish krona?\"\"\"\n",
        "\n",
        "response = model.generate_content(\n",
        "    prompt,\n",
        "    tools=[exchange_rate_tool],\n",
        ")"
      ],
      "metadata": {
        "id": "qUKr6ryDcTvl"
      },
      "execution_count": 57,
      "outputs": []
    },
    {
      "cell_type": "code",
      "source": [
        "print(response.candidates[0].content)"
      ],
      "metadata": {
        "colab": {
          "base_uri": "https://localhost:8080/"
        },
        "id": "D-xZ3rsbcXp6",
        "outputId": "d3fff990-c388-43ea-e40d-e393ba9b1bdf"
      },
      "execution_count": 59,
      "outputs": [
        {
          "output_type": "stream",
          "name": "stdout",
          "text": [
            "role: \"model\"\n",
            "parts {\n",
            "  function_call {\n",
            "    name: \"get_exchange_rate\"\n",
            "    args {\n",
            "      fields {\n",
            "        key: \"currency_date\"\n",
            "        value {\n",
            "          string_value: \"latest\"\n",
            "        }\n",
            "      }\n",
            "      fields {\n",
            "        key: \"currency_from\"\n",
            "        value {\n",
            "          string_value: \"AUD\"\n",
            "        }\n",
            "      }\n",
            "      fields {\n",
            "        key: \"currency_to\"\n",
            "        value {\n",
            "          string_value: \"SEK\"\n",
            "        }\n",
            "      }\n",
            "    }\n",
            "  }\n",
            "}\n",
            "\n"
          ]
        }
      ]
    },
    {
      "cell_type": "markdown",
      "source": [
        "## Step 9. Make an API request"
      ],
      "metadata": {
        "id": "BIzZ906Bn6L8"
      }
    },
    {
      "cell_type": "code",
      "source": [
        "params = {}\n",
        "for key, value in response.candidates[0].content.parts[0].function_call.args.items():\n",
        "    params[key[9:]] = value\n",
        "params"
      ],
      "metadata": {
        "colab": {
          "base_uri": "https://localhost:8080/"
        },
        "id": "YuflEdH6caCY",
        "outputId": "02b4fa48-e0d8-456e-e9a1-16a1e1de8ab3"
      },
      "execution_count": 60,
      "outputs": [
        {
          "output_type": "execute_result",
          "data": {
            "text/plain": [
              "{'from': 'AUD', 'date': 'latest', 'to': 'SEK'}"
            ]
          },
          "metadata": {},
          "execution_count": 60
        }
      ]
    },
    {
      "cell_type": "code",
      "source": [
        "import requests\n",
        "url = f\"https://api.frankfurter.app/{params['date']}\"\n",
        "api_response = requests.get(url, params=params)\n",
        "api_response.json()"
      ],
      "metadata": {
        "colab": {
          "base_uri": "https://localhost:8080/"
        },
        "id": "B_M0seAGgZ7u",
        "outputId": "dc1b47df-9765-4277-9d79-1f34799949e8"
      },
      "execution_count": 62,
      "outputs": [
        {
          "output_type": "execute_result",
          "data": {
            "text/plain": [
              "{'amount': 1.0, 'base': 'AUD', 'date': '2024-03-15', 'rates': {'SEK': 6.7962}}"
            ]
          },
          "metadata": {},
          "execution_count": 62
        }
      ]
    },
    {
      "cell_type": "markdown",
      "source": [
        "## Step 10. Generate a response"
      ],
      "metadata": {
        "id": "X0_w2t1Mn-F9"
      }
    },
    {
      "cell_type": "code",
      "source": [
        "response = model.generate_content(\n",
        "    [\n",
        "    Content(role=\"user\", parts=[\n",
        "        Part.from_text(prompt + \"\"\"Give your answer in steps with lots of detail\n",
        "            and context, including the exchange rate and date.\"\"\"),\n",
        "    ]),\n",
        "    Content(role=\"function\", parts=[\n",
        "        Part.from_dict({\n",
        "            \"function_call\": {\n",
        "                \"name\": \"get_exchange_rate\",\n",
        "            }\n",
        "        })\n",
        "    ]),\n",
        "    Content(role=\"function\", parts=[\n",
        "        Part.from_function_response(\n",
        "            name=\"get_exchange_rate\",\n",
        "            response={\n",
        "                \"content\": api_response.text,\n",
        "            }\n",
        "        )\n",
        "    ]),\n",
        "    ],\n",
        "    tools=[exchange_rate_tool],\n",
        ")\n",
        "\n",
        "\n",
        "response.candidates[0].content.parts[0].text"
      ],
      "metadata": {
        "colab": {
          "base_uri": "https://localhost:8080/",
          "height": 35
        },
        "id": "a2Fgz7mkgcgY",
        "outputId": "0bb0686a-f69f-49af-cc97-b3b8a2b36c19"
      },
      "execution_count": 63,
      "outputs": [
        {
          "output_type": "execute_result",
          "data": {
            "text/plain": [
              "'500 Australian dollars is worth 3398.1 Swedish krona as of 2024-03-15. The exchange rate is 1 AUD = 6.7962 SEK.'"
            ],
            "application/vnd.google.colaboratory.intrinsic+json": {
              "type": "string"
            }
          },
          "metadata": {},
          "execution_count": 63
        }
      ]
    },
    {
      "cell_type": "markdown",
      "source": [
        "## Conclusion\n",
        "\n",
        "Explore further:\n",
        "\n",
        "\n",
        "1.   [Gemini Pro API Reference](https://cloud.google.com/vertex-ai/generative-ai/docs/model-reference/gemini#gemini-pro)\n",
        "2.   [Sample Function Calling Notebook](https://github.com/GoogleCloudPlatform/generative-ai/blob/main/gemini/function-calling/intro_function_calling.ipynb)\n",
        "\n"
      ],
      "metadata": {
        "id": "ZleqMsPxoJpx"
      }
    },
    {
      "cell_type": "code",
      "source": [],
      "metadata": {
        "id": "ADJFJ6acog0u"
      },
      "execution_count": null,
      "outputs": []
    }
  ]
}