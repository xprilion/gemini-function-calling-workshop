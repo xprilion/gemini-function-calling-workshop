{
  "cells": [
    {
      "cell_type": "markdown",
      "metadata": {
        "id": "view-in-github",
        "colab_type": "text"
      },
      "source": [
        "<a href=\"https://colab.research.google.com/github/xprilion/gemini-function-calling-workshop/blob/main/GeminiFunctionCallingWithRAGChromaDb.ipynb\" target=\"_parent\"><img src=\"https://colab.research.google.com/assets/colab-badge.svg\" alt=\"Open In Colab\"/></a>"
      ]
    },
    {
      "cell_type": "markdown",
      "source": [
        "# Putting together Function Calling and RAGs with Gemini\n",
        "\n",
        "In this notebook, we explore using Gemini APIs with Function Calling and Retrieval Augmented Generation. It covers a method to use ChromaDB powered vector store to act as a cache for an external API.\n",
        "\n",
        "We use the [Frankfurter API](https://www.frankfurter.app/) for fetching exchange rates between currencies."
      ],
      "metadata": {
        "id": "mQJc0rOrd9YP"
      }
    },
    {
      "cell_type": "markdown",
      "metadata": {
        "id": "uHK1b5sH1Tu8"
      },
      "source": [
        "## Setup\n",
        "\n",
        "1. Install ChromaDB\n",
        "2. Install Google's SDK for Gen AI\n",
        "\n",
        "This notebook uses Google AI Studio for calling the APIs. This method is slightly different from using Vertex AI Studio based Gemini Model APIs."
      ]
    },
    {
      "cell_type": "code",
      "execution_count": 1,
      "metadata": {
        "id": "I73Zu7da0gpb"
      },
      "outputs": [],
      "source": [
        "%%capture\n",
        "!pip install chromadb\n",
        "!pip install -U -q google-generativeai"
      ]
    },
    {
      "cell_type": "code",
      "source": [
        "import requests\n",
        "import google.generativeai as genai\n",
        "import chromadb\n",
        "from datetime import datetime, timedelta"
      ],
      "metadata": {
        "id": "rWS3LVtIYf8V"
      },
      "execution_count": 2,
      "outputs": []
    },
    {
      "cell_type": "markdown",
      "source": [
        "Instantiating a Gemini API client."
      ],
      "metadata": {
        "id": "LqejWRLrfdZN"
      }
    },
    {
      "cell_type": "code",
      "source": [
        "try:\n",
        "    # Used to securely store your API key\n",
        "    from google.colab import userdata\n",
        "\n",
        "    # Or use `os.getenv('API_KEY')` to fetch an environment variable.\n",
        "    GOOGLE_API_KEY=userdata.get('GOOGLE_API_KEY')\n",
        "except ImportError:\n",
        "    import os\n",
        "    GOOGLE_API_KEY = os.environ['GOOGLE_API_KEY']\n",
        "\n",
        "genai.configure(api_key=GOOGLE_API_KEY)"
      ],
      "metadata": {
        "id": "NBhrIrYo5Ric"
      },
      "execution_count": 3,
      "outputs": []
    },
    {
      "cell_type": "markdown",
      "source": [
        "Instantiating a ChromaDB client"
      ],
      "metadata": {
        "id": "5GdFghY7fgl_"
      }
    },
    {
      "cell_type": "code",
      "execution_count": 4,
      "metadata": {
        "id": "cFkvhQdE1znl"
      },
      "outputs": [],
      "source": [
        "chroma_client = chromadb.Client()"
      ]
    },
    {
      "cell_type": "markdown",
      "source": [
        "Creating a collection, you can have multiple collections per client. These are all stored in memory, so make sure your RAM is high enough to hold these documents."
      ],
      "metadata": {
        "id": "92kO_9tufpmU"
      }
    },
    {
      "cell_type": "code",
      "execution_count": 5,
      "metadata": {
        "id": "ZMabyYgw08Kp"
      },
      "outputs": [],
      "source": [
        "collection = chroma_client.create_collection(name=\"exchange-rates\")"
      ]
    },
    {
      "cell_type": "markdown",
      "source": [
        "## [Optional] Initialize the collection with latest 5 days of data on exchange rates.\n",
        "\n",
        "Let's get the latest 5 dates for which we'll fetch the initial chunk of data into the DB."
      ],
      "metadata": {
        "id": "GWoUNAE-f0sP"
      }
    },
    {
      "cell_type": "code",
      "execution_count": 6,
      "metadata": {
        "id": "m2JhWLSH097J"
      },
      "outputs": [],
      "source": [
        "current_date = datetime.now()\n",
        "dates = [(current_date - timedelta(days=i)).strftime('%Y-%m-%d') for i in range(1, 6)]"
      ]
    },
    {
      "cell_type": "code",
      "execution_count": 7,
      "metadata": {
        "colab": {
          "base_uri": "https://localhost:8080/"
        },
        "id": "rZVkHP5p2bS_",
        "outputId": "bd6c360c-829f-4c08-ec8a-4cf2f59f3668"
      },
      "outputs": [
        {
          "output_type": "execute_result",
          "data": {
            "text/plain": [
              "['2024-05-10', '2024-05-09', '2024-05-08', '2024-05-07', '2024-05-06']"
            ]
          },
          "metadata": {},
          "execution_count": 7
        }
      ],
      "source": [
        "dates"
      ]
    },
    {
      "cell_type": "code",
      "execution_count": 8,
      "metadata": {
        "id": "1Eg_H3ol3Fgt"
      },
      "outputs": [],
      "source": [
        "url = \"https://api.frankfurter.app/latest\"\n",
        "response = requests.get(url)\n",
        "api_data = response.json()\n",
        "\n",
        "currencies = list(api_data['rates'].keys())"
      ]
    },
    {
      "cell_type": "code",
      "execution_count": 9,
      "metadata": {
        "id": "8AhPIXIR2cBK"
      },
      "outputs": [],
      "source": [
        "def initial_fetch_conversion_rates(date, currencies):\n",
        "    rates = {}\n",
        "    try:\n",
        "        response = requests.get(f'https://api.frankfurter.app/{date}')\n",
        "        data = response.json()\n",
        "        rates = {curr: data['rates'].get(curr, 'N/A') for curr in currencies}\n",
        "    except Exception as e:\n",
        "        print(f\"Error fetching conversion rates for {date}: {e}\")\n",
        "    return rates"
      ]
    },
    {
      "cell_type": "code",
      "execution_count": 10,
      "metadata": {
        "id": "A9hgdjD627HU"
      },
      "outputs": [],
      "source": [
        "documents = []\n",
        "metadatas = []\n",
        "ids = []\n",
        "for date in dates:\n",
        "    rates = initial_fetch_conversion_rates(date, currencies)\n",
        "    for currency, rate in rates.items():\n",
        "        document = f\"EUR to {currency} conversion rate is {rate} on {date}\"\n",
        "        documents.append(document)\n",
        "        metadata = {\"base\": \"EUR\", \"target\": currency, \"date\": date, \"rate\": rate}\n",
        "        id_ = f\"EUR-{currency}-{date.replace('-', '')}\"\n",
        "        metadatas.append(metadata)\n",
        "        ids.append(id_)"
      ]
    },
    {
      "cell_type": "code",
      "execution_count": 11,
      "metadata": {
        "id": "KI5cUBjs3MIc"
      },
      "outputs": [],
      "source": [
        "collection.add(\n",
        "    metadatas=metadatas,\n",
        "    documents=documents,\n",
        "    ids=ids,\n",
        ")"
      ]
    },
    {
      "cell_type": "markdown",
      "source": [
        "Quick check of whether our initial fetch of data works!"
      ],
      "metadata": {
        "id": "G70L-HBPgL7i"
      }
    },
    {
      "cell_type": "code",
      "source": [
        "search_query = \"EUR to INR conversion rate on 09-05-2024\""
      ],
      "metadata": {
        "id": "zoOmlJ-n3pBo"
      },
      "execution_count": 12,
      "outputs": []
    },
    {
      "cell_type": "code",
      "execution_count": 13,
      "metadata": {
        "id": "d7qikJLg3TP1",
        "colab": {
          "base_uri": "https://localhost:8080/"
        },
        "outputId": "65280a65-d8c8-4af2-972c-d6ab617c6f8f"
      },
      "outputs": [
        {
          "output_type": "execute_result",
          "data": {
            "text/plain": [
              "{'ids': [['EUR-INR-20240509']],\n",
              " 'distances': [[0.08850838989019394]],\n",
              " 'metadatas': [[{'base': 'EUR',\n",
              "    'date': '2024-05-09',\n",
              "    'rate': 89.61,\n",
              "    'target': 'INR'}]],\n",
              " 'embeddings': None,\n",
              " 'documents': [['EUR to INR conversion rate is 89.61 on 2024-05-09']],\n",
              " 'uris': None,\n",
              " 'data': None}"
            ]
          },
          "metadata": {},
          "execution_count": 13
        }
      ],
      "source": [
        "results = collection.query(\n",
        "    query_texts=[search_query], # Chroma will embed this for you\n",
        "    n_results=1 # how many results to return\n",
        ")\n",
        "results"
      ]
    },
    {
      "cell_type": "markdown",
      "source": [
        "## Function for fetching data by date, from and target currency directly from API\n",
        "\n",
        "We'll call this API anytime we need to fetch new data from the API."
      ],
      "metadata": {
        "id": "YKZTwv24gP4r"
      }
    },
    {
      "cell_type": "code",
      "source": [
        "def get_exchange_rate_from_api(currency_from, currency_to, currency_date=\"latest\"):\n",
        "    try:\n",
        "        response = requests.get(f'https://api.frankfurter.app/{currency_date}', params={\n",
        "            \"from\": currency_from,\n",
        "            \"to\": currency_to\n",
        "        })\n",
        "        metadata, document, id_ = None, None, None\n",
        "        data = response.json()\n",
        "\n",
        "        rate = data['rates'][currency_to]\n",
        "        document = f\"{currency_from} to {currency_to} conversion rate is {rate} on {currency_date}\"\n",
        "        metadata = {\"base\": currency_from, \"target\": currency_to, \"date\": currency_date, \"rate\": rate}\n",
        "        id_ = f\"{currency_from}-{currency_to}-{currency_date.replace('-', '')}\"\n",
        "\n",
        "        collection.upsert(\n",
        "            metadatas=[metadata],\n",
        "            documents=[document],\n",
        "            ids=[id_],\n",
        "        )\n",
        "\n",
        "        print(\"Added document\")\n",
        "        print(document)\n",
        "    except Exception as e:\n",
        "        print(f\"Error fetching conversion rates for {currency_date}: {e}\")\n",
        "        raise(e)\n",
        "    return document"
      ],
      "metadata": {
        "id": "1Asd4prK6lht"
      },
      "execution_count": 14,
      "outputs": []
    },
    {
      "cell_type": "markdown",
      "source": [
        "Quick check if our function above is working!"
      ],
      "metadata": {
        "id": "Zo5RUNp5gZrB"
      }
    },
    {
      "cell_type": "code",
      "source": [
        "get_exchange_rate_from_api(\"USD\", \"INR\", \"2024-05-10\")"
      ],
      "metadata": {
        "colab": {
          "base_uri": "https://localhost:8080/",
          "height": 71
        },
        "id": "9S-UJXDM-70j",
        "outputId": "896b2875-8674-4e3a-8f2e-a9b347205713"
      },
      "execution_count": 15,
      "outputs": [
        {
          "output_type": "stream",
          "name": "stdout",
          "text": [
            "Added document\n",
            "USD to INR conversion rate is 83.51 on 2024-05-10\n"
          ]
        },
        {
          "output_type": "execute_result",
          "data": {
            "text/plain": [
              "'USD to INR conversion rate is 83.51 on 2024-05-10'"
            ],
            "application/vnd.google.colaboratory.intrinsic+json": {
              "type": "string"
            }
          },
          "metadata": {},
          "execution_count": 15
        }
      ]
    },
    {
      "cell_type": "markdown",
      "source": [
        "## Function that is ready to work with Gemini API\n",
        "\n",
        "This function first checks if we have the data for those dates and currrency pair already in the database. If not, fetch from API and return.\n",
        "\n",
        "Check out all those verbose descriptions, these help Gemini understand this function better while deciding when and how to call it!"
      ],
      "metadata": {
        "id": "WlIbIQfZgcZD"
      }
    },
    {
      "cell_type": "code",
      "source": [
        "def get_exchange_rate(currency_from: str, currency_to: str, currency_date: str =\"latest\"):\n",
        "    \"\"\"\n",
        "    This function retrieves the exchange rate between two currencies on a specific date.\n",
        "\n",
        "    Args:\n",
        "        currency_from (str): The currency to convert from (ISO 4217 format). (Required)\n",
        "        currency_to (str): The currency to convert to (ISO 4217 format). (Required)\n",
        "        currency_date (str, optional): The date for the exchange rate in YYYY-MM-DD format\n",
        "                                        or \"latest\" for the most recent rate. Defaults to \"latest\".\n",
        "\n",
        "    Returns:\n",
        "        float: The exchange rate (currency_to per unit of currency_from).\n",
        "            If the rate cannot be retrieved, returns None.\n",
        "\n",
        "    Raises:\n",
        "        ValueError: If either currency code is invalid or the date format is incorrect.\n",
        "    \"\"\"\n",
        "\n",
        "    ## First, check if the Vector Store has the data\n",
        "    search_query = f\"{currency_from} to {currency_to} conversion on {currency_date}\"\n",
        "\n",
        "    results = collection.query(\n",
        "        query_texts=[search_query], # Chroma will embed this for you\n",
        "        n_results=1 # how many results to return\n",
        "    )\n",
        "\n",
        "    if (results[\"ids\"][0][0] == f\"{currency_from}-{currency_to}-{currency_date.replace('-', '')}\"):\n",
        "        print(\"Vector Store hit, let's return this.\")\n",
        "        print(\"DB return: \", results[\"documents\"][0])\n",
        "        return results[\"documents\"][0]\n",
        "\n",
        "    api_data = get_exchange_rate_from_api(currency_from, currency_to, currency_date)\n",
        "    print(\"Vector store miss. Fetching data from API and returning!\")\n",
        "    print(\"API return: \",api_data )\n",
        "    return api_data"
      ],
      "metadata": {
        "id": "o53em65cXWCd"
      },
      "execution_count": 47,
      "outputs": []
    },
    {
      "cell_type": "markdown",
      "source": [
        "Quick check of above function running!"
      ],
      "metadata": {
        "id": "n0lP-Hn_g5sC"
      }
    },
    {
      "cell_type": "code",
      "source": [
        "get_exchange_rate(\"USD\", \"INR\", \"2024-05-01\")"
      ],
      "metadata": {
        "colab": {
          "base_uri": "https://localhost:8080/"
        },
        "id": "q0x6AGJAbvy3",
        "outputId": "c7afba06-4465-47bb-d7db-f3265ea6b59c"
      },
      "execution_count": 48,
      "outputs": [
        {
          "output_type": "stream",
          "name": "stdout",
          "text": [
            "Vector Store hit, let's return this.\n",
            "DB return:  ['USD to INR conversion rate is 83.43 on 2024-05-01']\n"
          ]
        },
        {
          "output_type": "execute_result",
          "data": {
            "text/plain": [
              "['USD to INR conversion rate is 83.43 on 2024-05-01']"
            ]
          },
          "metadata": {},
          "execution_count": 48
        }
      ]
    },
    {
      "cell_type": "markdown",
      "source": [
        "## Declare the model with the function declaration\n",
        "\n",
        "The SDK converts your function to a declaration for usage, if does not send the function anywhere!"
      ],
      "metadata": {
        "id": "5adcuF4Ug9Jq"
      }
    },
    {
      "cell_type": "code",
      "source": [
        "model = genai.GenerativeModel(model_name='gemini-1.0-pro',\n",
        "                              tools=[get_exchange_rate])"
      ],
      "metadata": {
        "id": "U7R63JidWvS1"
      },
      "execution_count": 49,
      "outputs": []
    },
    {
      "cell_type": "markdown",
      "source": [
        "Turns out chat usage has automatic function calling enabled, let's use it for the oomph factor!"
      ],
      "metadata": {
        "id": "4DhLbe5phGQx"
      }
    },
    {
      "cell_type": "code",
      "source": [
        "chat = model.start_chat(enable_automatic_function_calling=True)"
      ],
      "metadata": {
        "id": "3fDAELNMXUU0"
      },
      "execution_count": 50,
      "outputs": []
    },
    {
      "cell_type": "markdown",
      "source": [
        "Wrap the chat invocation in a nice neat function!"
      ],
      "metadata": {
        "id": "fKjed8tqhNU3"
      }
    },
    {
      "cell_type": "code",
      "source": [
        "def ask_gemini(query):\n",
        "  response = chat.send_message(query)\n",
        "  return response.text"
      ],
      "metadata": {
        "id": "getq18lSdlI1"
      },
      "execution_count": 51,
      "outputs": []
    },
    {
      "cell_type": "markdown",
      "source": [
        "## Testing"
      ],
      "metadata": {
        "id": "Ml0yMBIqhRzD"
      }
    },
    {
      "cell_type": "markdown",
      "source": [
        "Check: 20 USD to INR on 2024-05-10"
      ],
      "metadata": {
        "id": "aEKJrk_bhTEm"
      }
    },
    {
      "cell_type": "code",
      "source": [
        "ask_gemini('I have 20 US dollars with me. Calculate how much I have in INR as of 10th May, 2024.')"
      ],
      "metadata": {
        "colab": {
          "base_uri": "https://localhost:8080/",
          "height": 71
        },
        "id": "MdXHEUOEWxgd",
        "outputId": "10a11994-934d-45b4-9f22-4098d80b701f"
      },
      "execution_count": 52,
      "outputs": [
        {
          "output_type": "stream",
          "name": "stdout",
          "text": [
            "Vector Store hit, let's return this.\n",
            "DB return:  ['USD to INR conversion rate is 83.51 on 2024-05-10']\n"
          ]
        },
        {
          "output_type": "execute_result",
          "data": {
            "text/plain": [
              "'20 US dollars would be equal to 1,670.2 INR as of May 10th, 2024.'"
            ],
            "application/vnd.google.colaboratory.intrinsic+json": {
              "type": "string"
            }
          },
          "metadata": {},
          "execution_count": 52
        }
      ]
    },
    {
      "cell_type": "markdown",
      "source": [
        "Check: 20 USD to INR on 2024-05-01"
      ],
      "metadata": {
        "id": "zR6X5uq_hbTK"
      }
    },
    {
      "cell_type": "code",
      "source": [
        "ask_gemini('I have 20 US dollars with me. Calculate how much I have in INR as of 1st May, 2024?')"
      ],
      "metadata": {
        "colab": {
          "base_uri": "https://localhost:8080/",
          "height": 71
        },
        "id": "om1caMytaZz_",
        "outputId": "03efd0c3-1bfd-4087-97c6-05ae4c1e0c05"
      },
      "execution_count": 53,
      "outputs": [
        {
          "output_type": "stream",
          "name": "stdout",
          "text": [
            "Vector Store hit, let's return this.\n",
            "DB return:  ['USD to INR conversion rate is 83.43 on 2024-05-01']\n"
          ]
        },
        {
          "output_type": "execute_result",
          "data": {
            "text/plain": [
              "'20 US dollars would be equal to 1,668.6 INR as of May 1st, 2024.'"
            ],
            "application/vnd.google.colaboratory.intrinsic+json": {
              "type": "string"
            }
          },
          "metadata": {},
          "execution_count": 53
        }
      ]
    },
    {
      "cell_type": "markdown",
      "source": [
        "Check: 20 USD to INR on 2024-01-05"
      ],
      "metadata": {
        "id": "DQK791C4hczQ"
      }
    },
    {
      "cell_type": "code",
      "source": [
        "ask_gemini('I have 20 US dollars with me. Calculate how much I have in INR as of 5th January, 2024?')"
      ],
      "metadata": {
        "colab": {
          "base_uri": "https://localhost:8080/",
          "height": 107
        },
        "id": "9kNwEl-uciMD",
        "outputId": "d5c756b8-6305-46e4-90e6-3769f2c968d2"
      },
      "execution_count": 54,
      "outputs": [
        {
          "output_type": "stream",
          "name": "stdout",
          "text": [
            "Added document\n",
            "USD to INR conversion rate is 83.15 on 2024-01-05\n",
            "Vector store miss. Fetching data from API and returning!\n",
            "API return:  USD to INR conversion rate is 83.15 on 2024-01-05\n"
          ]
        },
        {
          "output_type": "execute_result",
          "data": {
            "text/plain": [
              "'20 US dollars would be equal to 1,663 INR as of January 5th, 2024.'"
            ],
            "application/vnd.google.colaboratory.intrinsic+json": {
              "type": "string"
            }
          },
          "metadata": {},
          "execution_count": 54
        }
      ]
    },
    {
      "cell_type": "code",
      "source": [],
      "metadata": {
        "id": "e7Bb6eyWhosK"
      },
      "execution_count": 24,
      "outputs": []
    }
  ],
  "metadata": {
    "colab": {
      "provenance": [],
      "toc_visible": true,
      "authorship_tag": "ABX9TyPdOF9X71AfpufvKjC6Qq+c",
      "include_colab_link": true
    },
    "kernelspec": {
      "display_name": "Python 3",
      "name": "python3"
    },
    "language_info": {
      "name": "python"
    }
  },
  "nbformat": 4,
  "nbformat_minor": 0
}